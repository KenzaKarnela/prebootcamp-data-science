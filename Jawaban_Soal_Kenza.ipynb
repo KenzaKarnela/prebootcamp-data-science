{
  "nbformat": 4,
  "nbformat_minor": 0,
  "metadata": {
    "colab": {
      "provenance": [],
      "authorship_tag": "ABX9TyPfeA3ieMjfZXj3qX40lwS0",
      "include_colab_link": true
    },
    "kernelspec": {
      "name": "python3",
      "display_name": "Python 3"
    },
    "language_info": {
      "name": "python"
    }
  },
  "cells": [
    {
      "cell_type": "markdown",
      "metadata": {
        "id": "view-in-github",
        "colab_type": "text"
      },
      "source": [
        "<a href=\"https://colab.research.google.com/github/KenzaKarnela/prebootcamp-data-science/blob/main/Jawaban_Soal_Kenza.ipynb\" target=\"_parent\"><img src=\"https://colab.research.google.com/assets/colab-badge.svg\" alt=\"Open In Colab\"/></a>"
      ]
    },
    {
      "cell_type": "code",
      "execution_count": 1,
      "metadata": {
        "colab": {
          "base_uri": "https://localhost:8080/"
        },
        "id": "NwoJi9H69DLD",
        "outputId": "ef8b9881-4bf2-4027-8070-edcbe9514c0f"
      },
      "outputs": [
        {
          "output_type": "stream",
          "name": "stdout",
          "text": [
            "Ketik angka pertama :3\n",
            "Ketik angka kedua   :2\n",
            "FPB dari  3  dan  2  adalah  1\n",
            "KPK dari  3  dan  2  adalah  6\n"
          ]
        }
      ],
      "source": [
        "#Soal 1\n",
        "\n",
        "def fpb(a,b):\n",
        "    if a<b:\n",
        "        smaller=a\n",
        "    else:\n",
        "        smaller=b\n",
        "    for i in range (1,smaller+1):\n",
        "        if a%i==0 and b%i==0:\n",
        "            fpb=i\n",
        "        # else:\n",
        "        #     continue\n",
        "    return fpb\n",
        "\n",
        "def kpk(a,b):\n",
        "    kpk=int(a*b/fpb(a,b))\n",
        "    return kpk\n",
        "\n",
        "a=int(input('Ketik angka pertama :'))\n",
        "b=int(input('Ketik angka kedua   :'))\n",
        "\n",
        "print('FPB dari ',a,' dan ',b,' adalah ',fpb(a,b))\n",
        "print('KPK dari ',a,' dan ',b,' adalah ',kpk(a,b))"
      ]
    },
    {
      "cell_type": "code",
      "source": [
        "#Soal 2\n",
        "\n",
        "angka = int(input('Ketik angka: '))\n",
        "\n",
        "list_bilangan = ['bulat']\n",
        "\n",
        "if angka < 0:\n",
        "    list_bilangan.append('negatif')\n",
        "else:\n",
        "    list_bilangan.append('cacah')\n",
        "    if angka == 0:\n",
        "        list_bilangan.append('nol')\n",
        "    else:\n",
        "        list_bilangan.append('asli')\n",
        "        if angka %2 != 0:\n",
        "            list_bilangan.append('ganjil')\n",
        "            if angka > 1:\n",
        "                for i in range(2, angka):\n",
        "                    if angka % i == 0:\n",
        "                        list_bilangan.append('komposit')\n",
        "                        break\n",
        "                else:\n",
        "                    list_bilangan.append('prima')\n",
        "                    \n",
        "        else:\n",
        "            list_bilangan.append('genap')\n",
        "            for i in range(2, angka):\n",
        "                if angka % i == 0:\n",
        "                    list_bilangan.append('komposit')\n",
        "                    break\n",
        "            else:\n",
        "                list_bilangan.append('prima')\n",
        "                \n",
        "print(list_bilangan)"
      ],
      "metadata": {
        "colab": {
          "base_uri": "https://localhost:8080/"
        },
        "id": "8pGwkf0_-CpS",
        "outputId": "a5114984-2ae9-4fc8-c0db-108468f334a7"
      },
      "execution_count": 1,
      "outputs": [
        {
          "output_type": "stream",
          "name": "stdout",
          "text": [
            "Ketik angka: 15\n",
            "['bulat', 'cacah', 'asli', 'ganjil', 'komposit']\n"
          ]
        }
      ]
    },
    {
      "cell_type": "code",
      "source": [
        "#Soal 3\n",
        "\n",
        "# API key: 02fb395c7d6544689eacde0eccc8f25d\n",
        "\n",
        "# from newsapi import NewsApiClient\n",
        "\n",
        "# # init\n",
        "# newsapi = NewsApiClient(api_key = '02fb395c7d6544689eacde0eccc8f25d')\n",
        "\n",
        "# # /v2/top-headlines\n",
        "# top_headlines = newsapi.get_top_headlines(q='bitcoin',\n",
        "#                                           sources='bbc-news,the-verge',\n",
        "#                                           category='business',\n",
        "#                                           language='en',\n",
        "#                                           country='us')\n",
        "\n",
        "import requests\n",
        "\n",
        "api_key = '02fb395c7d6544689eacde0eccc8f25d'\n",
        "kategori = {\n",
        "    '1': 'technology',\n",
        "    '2': 'business',\n",
        "    '3': 'sports',\n",
        "    '4': 'health',\n",
        "    '5': 'science'\n",
        "}\n",
        "\n",
        "print('Selamat datang, mau tahu berita apa hari ini?')\n",
        "print('[1] Berita seputar teknologi')\n",
        "print('[2] Berita seputar bisnis')\n",
        "print('[3] Berita seputar olahraga')\n",
        "print('[4] Berita seputar kesehatan')\n",
        "print('[5] Berita seputar science')\n",
        "\n",
        "pilih = input('Ketik pilihan anda [1/2/3/4/5]: ')\n",
        "berita = kategori[pilih]\n",
        "\n",
        "url = 'https://newsapi.org/v2/top-headlines?country=id&category='+berita+'&apiKey='+api_key\n",
        "\n",
        "articles = requests.get(url)\n",
        "\n",
        "print('Berikut adalah top 5 berita Indonesia bidang {}:'.format(kategori[pilih]))\n",
        "\n",
        "i = 0\n",
        "\n",
        "while i < 5:\n",
        "    print('{} - {}'.format(i+1, articles.json()['articles'][i]['title']))\n",
        "    i += 1"
      ],
      "metadata": {
        "colab": {
          "base_uri": "https://localhost:8080/"
        },
        "id": "rZlIXTcs-mQW",
        "outputId": "dfebf884-1305-405a-c6cc-0a4a1e12e3e8"
      },
      "execution_count": 2,
      "outputs": [
        {
          "output_type": "stream",
          "name": "stdout",
          "text": [
            "Selamat datang, mau tahu berita apa hari ini?\n",
            "[1] Berita seputar teknologi\n",
            "[2] Berita seputar bisnis\n",
            "[3] Berita seputar olahraga\n",
            "[4] Berita seputar kesehatan\n",
            "[5] Berita seputar science\n",
            "Ketik pilihan anda [1/2/3/4/5]: 1\n",
            "Berikut adalah top 5 berita Indonesia bidang technology:\n",
            "1 - Galaxy Unpacked 1 Februari, Reservasi Samsung Galaxy S23 Mulai Dibuka - Tekno Tempo\n",
            "2 - Mac Layar Sentuh Dikabarkan Hadir 2025 - Republika Online\n",
            "3 - Tahukah Kamu Fitur Baru WhatsApp Bisa Kirim Pesan WA Tanpa Internet Offline? Simak Penjelasannya - MSN\n",
            "4 - Tampang dan Spesifikasi Xiaomi 13 Lite Terungkap - Kompas.com - Tekno Kompas.com\n",
            "5 - 7 Tips Beli Ponsel Baru di 2023 Biar Ngak Salah Pilih - Riau Online\n"
          ]
        }
      ]
    }
  ]
}